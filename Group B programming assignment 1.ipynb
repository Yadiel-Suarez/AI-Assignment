{
 "cells": [
  {
   "cell_type": "code",
   "execution_count": 25,
   "metadata": {},
   "outputs": [],
   "source": [
    "import time\n",
    "import numpy\n",
    "import matplotlib.pyplot as plt"
   ]
  },
  {
   "cell_type": "code",
   "execution_count": 26,
   "metadata": {},
   "outputs": [],
   "source": [
    "# Pure Python Tests\n",
    "\n",
    "def pure_python_data(row, col):\n",
    "    first = 0\n",
    "    step = 1\n",
    "    size = row * col\n",
    "    \n",
    "    python_data = [first + i * step for i in range(size)]\n",
    "    \n",
    "    return python_data"
   ]
  },
  {
   "cell_type": "code",
   "execution_count": 27,
   "metadata": {},
   "outputs": [],
   "source": [
    "def pure_python_array(row, col):\n",
    "    python_data = pure_python_data(row, col)\n",
    "    intial_result=0\n",
    "    final_result = []\n",
    "    \n",
    "    #For 1-D Array\n",
    "    if row == 1:  \n",
    "        final_result.append(python_data)\n",
    "        if intial_result is not None:\n",
    "            final_result[0] += [intial_result] * (col - len(final_result[0]))\n",
    "\n",
    "    #For 2-D Array        \n",
    "    else: \n",
    "        for i in range(row):\n",
    "            row = python_data[i * col: (i + 1) * col]\n",
    "            if len(row) < col:\n",
    "                if intial_result is not None:\n",
    "                    row += [intial_result] * (col - len(row))\n",
    "            final_result.append(row)\n",
    "    \n",
    "    return final_result"
   ]
  },
  {
   "cell_type": "code",
   "execution_count": 28,
   "metadata": {},
   "outputs": [],
   "source": [
    "def pure_python_product(array_1D, array_2D):\n",
    "    final = []\n",
    "    \n",
    "    for i in range(len(array_2D)):\n",
    "        final.append(0)\n",
    "    \n",
    "    for i in range(len(array_2D)):\n",
    "        for j in range(len(array_2D[i])):\n",
    "            final[i] += array_1D[j] * array_2D[i][j]\n",
    "    return final"
   ]
  },
  {
   "cell_type": "code",
   "execution_count": 1,
   "metadata": {},
   "outputs": [
    {
     "ename": "NameError",
     "evalue": "name 'pure_python_array' is not defined",
     "output_type": "error",
     "traceback": [
      "\u001b[1;31m---------------------------------------------------------------------------\u001b[0m",
      "\u001b[1;31mNameError\u001b[0m                                 Traceback (most recent call last)",
      "Cell \u001b[1;32mIn[1], line 10\u001b[0m\n\u001b[0;32m      7\u001b[0m columns_2D \u001b[38;5;241m=\u001b[39m \u001b[38;5;241m10\u001b[39m\n\u001b[0;32m      9\u001b[0m \u001b[38;5;66;03m# Functions\u001b[39;00m\n\u001b[1;32m---> 10\u001b[0m array_1D \u001b[38;5;241m=\u001b[39m \u001b[43mpure_python_array\u001b[49m(rows_1D, columns_1D)\n\u001b[0;32m     11\u001b[0m array_1D \u001b[38;5;241m=\u001b[39m array_1D[\u001b[38;5;241m0\u001b[39m] \u001b[38;5;28;01mif\u001b[39;00m rows_1D \u001b[38;5;241m==\u001b[39m \u001b[38;5;241m1\u001b[39m \u001b[38;5;28;01melse\u001b[39;00m array_1D\n\u001b[0;32m     13\u001b[0m array_2D \u001b[38;5;241m=\u001b[39m pure_python_array(rows_2D, columns_2D)\n",
      "\u001b[1;31mNameError\u001b[0m: name 'pure_python_array' is not defined"
     ]
    }
   ],
   "source": [
    "# Pure Python Test #1\n",
    "# Dimensions\n",
    "rows_1D = 1\n",
    "columns_1D = 10\n",
    "\n",
    "rows_2D = 10\n",
    "columns_2D = 10\n",
    "\n",
    "# Functions\n",
    "array_1D = pure_python_array(rows_1D, columns_1D)\n",
    "array_1D = array_1D[0] if rows_1D == 1 else array_1D\n",
    "\n",
    "array_2D = pure_python_array(rows_2D, columns_2D)\n",
    "\n",
    "# Execution Time\n",
    "initial = time.time()\n",
    "result = pure_python_product(array_1D, array_2D)\n",
    "final = time.time()\n",
    "\n",
    "# Results\n",
    "execution_time1 = final - initial\n",
    "print(f\"Execution time: {execution_time1} sec\")"
   ]
  },
  {
   "cell_type": "code",
   "execution_count": 30,
   "metadata": {},
   "outputs": [
    {
     "name": "stdout",
     "output_type": "stream",
     "text": [
      "Execution time: 0.0008373260498046875 sec\n"
     ]
    }
   ],
   "source": [
    "# Pure Python Test #2\n",
    "# Dimensions\n",
    "rows_1D = 1\n",
    "columns_1D = 50\n",
    "# 2D\n",
    "rows_2D = 50\n",
    "columns_2D = 50\n",
    "\n",
    "# Functions\n",
    "array_1D = pure_python_array(rows_1D, columns_1D)\n",
    "array_1D = array_1D[0] if rows_1D == 1 else array_1D\n",
    "\n",
    "array_2D = pure_python_array(rows_2D, columns_2D)\n",
    "\n",
    "# Execution Time\n",
    "initial = time.time()\n",
    "result = pure_python_product(array_1D, array_2D)\n",
    "final = time.time()\n",
    "\n",
    "# Results\n",
    "execution_time2 = final - initial\n",
    "print(f\"Execution time: {execution_time2} sec\")\n",
    "\n"
   ]
  },
  {
   "cell_type": "code",
   "execution_count": 31,
   "metadata": {},
   "outputs": [
    {
     "name": "stdout",
     "output_type": "stream",
     "text": [
      "Execution time: 0.0011813640594482422 sec\n"
     ]
    }
   ],
   "source": [
    "# Pure Python Test #3\n",
    "# Dimensions\n",
    "rows_1D = 1\n",
    "columns_1D = 100\n",
    "\n",
    "rows_2D = 100\n",
    "columns_2D = 100\n",
    "\n",
    "# Functions\n",
    "array_1D = pure_python_array(rows_1D, columns_1D)\n",
    "array_1D = array_1D[0] if rows_1D == 1 else array_1D\n",
    "\n",
    "array_2D = pure_python_array(rows_2D, columns_2D)\n",
    "\n",
    "# Execution Time\n",
    "initial = time.time()\n",
    "result = pure_python_product(array_1D, array_2D)\n",
    "final = time.time()\n",
    "\n",
    "# Results\n",
    "execution_time3 = final - initial\n",
    "print(f\"Execution time: {execution_time3} sec\")\n"
   ]
  },
  {
   "cell_type": "code",
   "execution_count": null,
   "metadata": {},
   "outputs": [
    {
     "name": "stdout",
     "output_type": "stream",
     "text": [
      "Execution time: 0.0057086944580078125 sec\n"
     ]
    }
   ],
   "source": [
    "# Pure Python Test #4\n",
    "# Dimensions\n",
    "rows_1D = 1\n",
    "columns_1D = 200\n",
    "\n",
    "rows_2D = 200\n",
    "columns_2D = 200\n",
    "\n",
    "# Functions\n",
    "array_1D = pure_python_array(rows_1D, columns_1D)\n",
    "array_1D = array_1D[0] if rows_1D == 1 else array_1D\n",
    "\n",
    "array_2D = pure_python_array(rows_2D, columns_2D)\n",
    "\n",
    "# Execution time\n",
    "inital = time.time()\n",
    "result = pure_python_product(array_1D, array_2D)\n",
    "final = time.time()\n",
    "\n",
    "# Results\n",
    "execution_time4 = final - inital\n",
    "print(f\"Execution time: {execution_time4} sec\")\n"
   ]
  },
  {
   "cell_type": "code",
   "execution_count": 33,
   "metadata": {},
   "outputs": [
    {
     "name": "stdout",
     "output_type": "stream",
     "text": [
      "Execution time: 0.028700828552246094 sec\n"
     ]
    }
   ],
   "source": [
    "# Pure Python Test #5\n",
    "# Dimensions\n",
    "rows_1D = 1\n",
    "columns_1D = 500\n",
    "\n",
    "rows_2D = 500\n",
    "columns_2D = 500\n",
    "\n",
    "# Functions\n",
    "array_1D = pure_python_array(rows_1D, columns_1D)\n",
    "array_1D = array_1D[0] if rows_1D == 1 else array_1D\n",
    "\n",
    "array_2d = pure_python_array(rows_2D, columns_2D)\n",
    "\n",
    "# Execution time\n",
    "inital = time.time()\n",
    "result = pure_python_product(array_1D, array_2d)\n",
    "final = time.time()\n",
    "\n",
    "# Results\n",
    "execution_time5 = final - inital\n",
    "print(f\"Execution time: {execution_time5} sec\")\n"
   ]
  },
  {
   "cell_type": "code",
   "execution_count": 43,
   "metadata": {},
   "outputs": [
    {
     "data": {
      "image/png": "[encoded data removed]",
      "text/plain": [
       "<Figure size 640x480 with 1 Axes>"
      ]
     },
     "metadata": {},
     "output_type": "display_data"
    }
   ],
   "source": [
    "\n",
    "y_axis = [execution_time1, execution_time2, execution_time3, execution_time4, execution_time5]\n",
    "x_axis = ['10','50','100','200','500']\n",
    "\n",
    "plt.plot(x_axis, y_axis)\n",
    "\n",
    "plt.xlabel('Array Dimensions')\n",
    "plt.ylabel('Execution Time for Test (sec)')\n",
    "plt.title('Execution Time for Pure Python Test Cases')\n",
    "plt.grid(True)\n",
    "\n",
    "plt.show()"
   ]
  },
  {
   "cell_type": "code",
   "execution_count": 35,
   "metadata": {},
   "outputs": [],
   "source": [
    "# NumPy Tests\n",
    "\n",
    "def nump_product(arr1, arr2):\n",
    "    final = numpy.matmul(arr1, arr2)\n",
    "    return final"
   ]
  },
  {
   "cell_type": "code",
   "execution_count": 36,
   "metadata": {},
   "outputs": [
    {
     "name": "stdout",
     "output_type": "stream",
     "text": [
      "Execution time: 0.00015115737915039062 sec\n"
     ]
    }
   ],
   "source": [
    "# NumPy Test #1\n",
    "\n",
    "# Dimensions\n",
    "array_1D = numpy.arange(10)\n",
    "array_2D = numpy.arange(100).reshape(10, 10)\n",
    "\n",
    "# Execution Time\n",
    "initial = time.time()\n",
    "result_array = nump_product(array_1D, array_2D)\n",
    "final = time.time()\n",
    "\n",
    "# Results\n",
    "execution_time1np = final - initial\n",
    "print(f\"Execution time: {execution_time1np} sec\")"
   ]
  },
  {
   "cell_type": "code",
   "execution_count": 37,
   "metadata": {},
   "outputs": [
    {
     "name": "stdout",
     "output_type": "stream",
     "text": [
      "Execution time: 0.00015544891357421875 sec\n"
     ]
    }
   ],
   "source": [
    "# NumPy Test #2\n",
    "\n",
    "# Dimensions\n",
    "array_1D = numpy.arange(50)\n",
    "array_2D = numpy.arange(2500).reshape(50, 50)\n",
    "\n",
    "# Execution Time\n",
    "initial = time.time()\n",
    "result_array = nump_product(array_1D, array_2D)\n",
    "final = time.time()\n",
    "\n",
    "# Results\n",
    "execution_time2np = final - initial\n",
    "print(f\"Execution time: {execution_time2np} sec\")\n"
   ]
  },
  {
   "cell_type": "code",
   "execution_count": 38,
   "metadata": {},
   "outputs": [
    {
     "name": "stdout",
     "output_type": "stream",
     "text": [
      "Execution time: 0.00015783309936523438 sec\n"
     ]
    }
   ],
   "source": [
    "# NumPy Test #3\n",
    "\n",
    "# Dimensions\n",
    "array_1D = numpy.arange(100)\n",
    "array_2D = numpy.arange(10000).reshape(100, 100)\n",
    "\n",
    "# Execution Time\n",
    "initial = time.time()\n",
    "result_array = nump_product(array_1D, array_2D)\n",
    "final = time.time()\n",
    "\n",
    "# Results\n",
    "execution_time3np = final - initial\n",
    "print(f\"Execution time: {execution_time3np} sec\")"
   ]
  },
  {
   "cell_type": "code",
   "execution_count": null,
   "metadata": {},
   "outputs": [
    {
     "name": "stdout",
     "output_type": "stream",
     "text": [
      "Execution time: 0.0003514289855957031 seconds\n"
     ]
    }
   ],
   "source": [
    "# NumPy Test #4\n",
    "\n",
    "# Dimensions\n",
    "array_1D = numpy.arange(200)\n",
    "array_2D = numpy.arange(40000).reshape(200, 200)\n",
    "\n",
    "# Execution Time\n",
    "initial = time.time()\n",
    "result_array = nump_product(array_1D, array_2D)\n",
    "final = time.time()\n",
    "\n",
    "# Results\n",
    "execution_time4np = final - initial\n",
    "print(f\"Execution time: {execution_time4np} sec\")"
   ]
  },
  {
   "cell_type": "code",
   "execution_count": 39,
   "metadata": {},
   "outputs": [
    {
     "name": "stdout",
     "output_type": "stream",
     "text": [
      "Execution time: 0.0006728172302246094 sec\n"
     ]
    }
   ],
   "source": [
    "# NumPy Test #5\n",
    "\n",
    "# Dimensions\n",
    "array_1D = numpy.arange(500)\n",
    "array_2D = numpy.arange(250000).reshape(500, 500)\n",
    "\n",
    "# Execution Time\n",
    "initial = time.time()\n",
    "result_array = nump_product(array_1D, array_2D)\n",
    "final = time.time()\n",
    "\n",
    "# Results\n",
    "execution_time5np = final - initial\n",
    "print(f\"Execution time: {execution_time5np} sec\")"
   ]
  },
  {
   "cell_type": "code",
   "execution_count": 42,
   "metadata": {},
   "outputs": [
    {
     "data": {
      "image/png": "[encoded data removed]",
      "text/plain": [
       "<Figure size 640x480 with 1 Axes>"
      ]
     },
     "metadata": {},
     "output_type": "display_data"
    }
   ],
   "source": [
    "\n",
    "y_axis = [execution_time1np, execution_time2np, execution_time3np, execution_time4np, execution_time5np]\n",
    "x_axis = ['10','50','100','200','500']\n",
    "\n",
    "plt.plot(x_axis, y_axis)\n",
    "\n",
    "plt.xlabel('Array Dimensions')\n",
    "plt.ylabel('Execution Time for Test (sec)')\n",
    "plt.title('Execution Time for NumPy Test Cases')\n",
    "plt.grid(True)\n",
    "\n",
    "plt.show()"
   ]
  }
 ],
 "metadata": {
  "kernelspec": {
   "display_name": "Python 3",
   "language": "python",
   "name": "python3"
  },
  "language_info": {
   "codemirror_mode": {
    "name": "ipython",
    "version": 3
   },
   "file_extension": ".py",
   "mimetype": "text/x-python",
   "name": "python",
   "nbconvert_exporter": "python",
   "pygments_lexer": "ipython3",
   "version": "undefined.undefined.undefined"
  }
 },
 "nbformat": 4,
 "nbformat_minor": 2
}
